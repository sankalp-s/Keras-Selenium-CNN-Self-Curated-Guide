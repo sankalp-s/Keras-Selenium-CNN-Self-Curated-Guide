{
 "cells": [
  {
   "cell_type": "code",
   "execution_count": 1,
   "metadata": {
    "collapsed": true
   },
   "outputs": [],
   "source": [
    "from selenium import webdriver #importing the webdriver "
   ]
  },
  {
   "cell_type": "code",
   "execution_count": 2,
   "metadata": {
    "collapsed": true
   },
   "outputs": [],
   "source": [
    "driver = webdriver.Chrome(executable_path = 'C:\\\\Users\\\\Sankalp Arora\\\\Downloads\\\\chromedriver_win32 (1)\\\\chromedriver') # creating the driver !"
   ]
  },
  {
   "cell_type": "code",
   "execution_count": 3,
   "metadata": {
    "collapsed": true
   },
   "outputs": [],
   "source": [
    "driver.get('https://twitter.com/StackOverheards') # opening the website "
   ]
  },
  {
   "cell_type": "code",
   "execution_count": 4,
   "metadata": {
    "collapsed": true
   },
   "outputs": [],
   "source": [
    "driver.execute_script('window.location = \"https://www.google.com/\";') # writing the javascript code i.e we will use execute_script and using the windows.location which is a javascript code and then providing the window that we want to open \n",
    "# javscript code ends with a semicolon !"
   ]
  },
  {
   "cell_type": "code",
   "execution_count": 4,
   "metadata": {},
   "outputs": [
    {
     "data": {
      "text/plain": [
       "<selenium.webdriver.remote.webelement.WebElement (session=\"36e921193a82743a313824ae6438b2a1\", element=\"0.6307673015746489-1\")>"
      ]
     },
     "execution_count": 4,
     "metadata": {},
     "output_type": "execute_result"
    }
   ],
   "source": [
    "driver.execute_script('return document.getElementById(\"global-nav-home\");') # driver.execute_script('return document.getElementById(\"global-nav-home\");')  this is a javascript code and we are fetching using the id \n",
    "# also we have to return in the javascript "
   ]
  },
  {
   "cell_type": "code",
   "execution_count": 5,
   "metadata": {},
   "outputs": [
    {
     "data": {
      "text/plain": [
       "<selenium.webdriver.remote.webelement.WebElement (session=\"36e921193a82743a313824ae6438b2a1\", element=\"0.6307673015746489-1\")>"
      ]
     },
     "execution_count": 5,
     "metadata": {},
     "output_type": "execute_result"
    }
   ],
   "source": [
    "driver.find_element_by_id('global-nav-home') # this is the python code and it gives the same result as that of the javascript code "
   ]
  },
  {
   "cell_type": "code",
   "execution_count": null,
   "metadata": {},
   "outputs": [],
   "source": [
    "#scrollby and scroll to are the javascript codes used to scroll the page \n",
    "#scrollby(x,y) where x is the numbr of pixels we want to scroll in the x direction and y is the number of pixels we want to scroll in the y direction\n"
   ]
  },
  {
   "cell_type": "code",
   "execution_count": 14,
   "metadata": {
    "collapsed": true
   },
   "outputs": [],
   "source": [
    "driver.execute_script('window.scrollBy(0, 1000);') # execute_script used to execute the javascript code written in the brackets ahead !\n",
    "# window.scrollBy (0, 1000) this give us x = 0 i.e we dnt want to scroll in the x direction and we want to scroll down 1000 pixels in the y direction"
   ]
  },
  {
   "cell_type": "code",
   "execution_count": 15,
   "metadata": {
    "collapsed": true
   },
   "outputs": [],
   "source": [
    "driver.execute_script('window.scrollBy(0, 1000);') # if we want to scroll more then execute it again"
   ]
  },
  {
   "cell_type": "code",
   "execution_count": 17,
   "metadata": {
    "collapsed": true
   },
   "outputs": [],
   "source": [
    "import time # to provide the lag or the rest of some seconds after making one scroll \n",
    "for i in range(5) : # executing the scroll command multiple times using the for looop \n",
    "    driver.execute_script(\n",
    "        'window.scrollBy(0, 1000);')\n",
    "    time.sleep(3) # this will give a pause "
   ]
  },
  {
   "cell_type": "code",
   "execution_count": 18,
   "metadata": {
    "collapsed": true
   },
   "outputs": [],
   "source": [
    "driver.execute_script(\n",
    "    'window.scrollBy(0, -1000);') # as we gave negative value to the y then instead of moving down it will move up by 1000 pixels "
   ]
  },
  {
   "cell_type": "code",
   "execution_count": 19,
   "metadata": {
    "collapsed": true
   },
   "outputs": [],
   "source": [
    "driver.execute_script(\n",
    "    'window.scrollBy(200, 0);')  #this will not move up or down, instead it will move right by 200 pixels ..and if negative value given then it will move to the left by 200 pixels !"
   ]
  }
 ],
 "metadata": {
  "kernelspec": {
   "display_name": "Python 3",
   "language": "python",
   "name": "python3"
  },
  "language_info": {
   "codemirror_mode": {
    "name": "ipython",
    "version": 3
   },
   "file_extension": ".py",
   "mimetype": "text/x-python",
   "name": "python",
   "nbconvert_exporter": "python",
   "pygments_lexer": "ipython3",
   "version": "3.7.3"
  }
 },
 "nbformat": 4,
 "nbformat_minor": 2
}
