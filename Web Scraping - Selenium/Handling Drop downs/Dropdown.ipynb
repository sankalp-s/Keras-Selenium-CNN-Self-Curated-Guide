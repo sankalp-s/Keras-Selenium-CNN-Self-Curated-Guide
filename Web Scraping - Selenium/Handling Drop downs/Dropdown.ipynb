{
 "cells": [
  {
   "cell_type": "code",
   "execution_count": 25,
   "metadata": {
    "collapsed": true
   },
   "outputs": [],
   "source": [
    "from selenium import webdriver #importing the web driver "
   ]
  },
  {
   "cell_type": "code",
   "execution_count": 26,
   "metadata": {},
   "outputs": [],
   "source": [
    "driver = webdriver.Chrome(executable_path = 'C:\\\\Users\\\\Sankalp Arora\\\\Downloads\\\\chromedriver_win32 (1)\\\\chromedriver') #creating the webdriver\n",
    "driver.get('https://www.toolsqa.com/automation-practice-form/') #opening the website using the webdriver"
   ]
  },
  {
   "cell_type": "code",
   "execution_count": 27,
   "metadata": {},
   "outputs": [
    {
     "data": {
      "text/plain": [
       "<selenium.webdriver.remote.webelement.WebElement (session=\"f80cad37893e9d90575ef449685d73db\", element=\"0.8316177088794825-1\")>"
      ]
     },
     "execution_count": 27,
     "metadata": {},
     "output_type": "execute_result"
    }
   ],
   "source": [
    "drp_dwn = driver.find_element_by_id('continents') #locating the drop down element !\n",
    "drp_dwn # getting the drop down list !"
   ]
  },
  {
   "cell_type": "code",
   "execution_count": 28,
   "metadata": {
    "collapsed": true
   },
   "outputs": [],
   "source": [
    "from selenium.webdriver.support.select import Select #importing the select class\n",
    "s = Select(drp_dwn) #creating object for the select class !"
   ]
  },
  {
   "cell_type": "code",
   "execution_count": 29,
   "metadata": {},
   "outputs": [
    {
     "data": {
      "text/plain": [
       "[<selenium.webdriver.remote.webelement.WebElement (session=\"f80cad37893e9d90575ef449685d73db\", element=\"0.8316177088794825-2\")>,\n",
       " <selenium.webdriver.remote.webelement.WebElement (session=\"f80cad37893e9d90575ef449685d73db\", element=\"0.8316177088794825-3\")>,\n",
       " <selenium.webdriver.remote.webelement.WebElement (session=\"f80cad37893e9d90575ef449685d73db\", element=\"0.8316177088794825-4\")>,\n",
       " <selenium.webdriver.remote.webelement.WebElement (session=\"f80cad37893e9d90575ef449685d73db\", element=\"0.8316177088794825-5\")>,\n",
       " <selenium.webdriver.remote.webelement.WebElement (session=\"f80cad37893e9d90575ef449685d73db\", element=\"0.8316177088794825-6\")>,\n",
       " <selenium.webdriver.remote.webelement.WebElement (session=\"f80cad37893e9d90575ef449685d73db\", element=\"0.8316177088794825-7\")>,\n",
       " <selenium.webdriver.remote.webelement.WebElement (session=\"f80cad37893e9d90575ef449685d73db\", element=\"0.8316177088794825-8\")>]"
      ]
     },
     "execution_count": 29,
     "metadata": {},
     "output_type": "execute_result"
    }
   ],
   "source": [
    "s.options #this is the method which gives all the output of the dropdown present !"
   ]
  },
  {
   "cell_type": "code",
   "execution_count": 31,
   "metadata": {},
   "outputs": [
    {
     "data": {
      "text/plain": [
       "'<option>Asia</option>'"
      ]
     },
     "execution_count": 31,
     "metadata": {},
     "output_type": "execute_result"
    }
   ],
   "source": [
    "s.first_selected_option # This is to select the first element or the first option\n",
    "s.first_selected_option.get_attribute('outerHTML') # This gives the value of the first option i.e the string that it contains !"
   ]
  },
  {
   "cell_type": "code",
   "execution_count": 32,
   "metadata": {},
   "outputs": [
    {
     "data": {
      "text/plain": [
       "[<selenium.webdriver.remote.webelement.WebElement (session=\"f80cad37893e9d90575ef449685d73db\", element=\"0.8316177088794825-2\")>]"
      ]
     },
     "execution_count": 32,
     "metadata": {},
     "output_type": "execute_result"
    }
   ],
   "source": [
    "s.all_selected_options # This shows the values selected in the drop down i.e dropdown can have multiple selected values ! but in general we encounter dropdown with single values "
   ]
  },
  {
   "cell_type": "code",
   "execution_count": 33,
   "metadata": {
    "collapsed": true
   },
   "outputs": [],
   "source": [
    "s.select_by_index(1) #we can select drop down using id ....value ..or text ! look at the commands in the notes downloaded \n",
    "#in this cell we have selected using the index value !"
   ]
  },
  {
   "cell_type": "code",
   "execution_count": 34,
   "metadata": {},
   "outputs": [
    {
     "ename": "NoSuchElementException",
     "evalue": "Message: Cannot locate option with value: Australia\n",
     "output_type": "error",
     "traceback": [
      "\u001b[0;31m---------------------------------------------------------------------------\u001b[0m",
      "\u001b[0;31mNoSuchElementException\u001b[0m                    Traceback (most recent call last)",
      "\u001b[0;32m<ipython-input-34-aaa0e8722ea8>\u001b[0m in \u001b[0;36m<module>\u001b[0;34m()\u001b[0m\n\u001b[0;32m----> 1\u001b[0;31m \u001b[0ms\u001b[0m\u001b[0;34m.\u001b[0m\u001b[0mselect_by_value\u001b[0m\u001b[0;34m(\u001b[0m\u001b[0;34m'Australia'\u001b[0m\u001b[0;34m)\u001b[0m\u001b[0;34m\u001b[0m\u001b[0;34m\u001b[0m\u001b[0m\n\u001b[0m",
      "\u001b[0;32m/anaconda3/lib/python3.6/site-packages/selenium/webdriver/support/select.py\u001b[0m in \u001b[0;36mselect_by_value\u001b[0;34m(self, value)\u001b[0m\n\u001b[1;32m     85\u001b[0m             \u001b[0mmatched\u001b[0m \u001b[0;34m=\u001b[0m \u001b[0;32mTrue\u001b[0m\u001b[0;34m\u001b[0m\u001b[0;34m\u001b[0m\u001b[0m\n\u001b[1;32m     86\u001b[0m         \u001b[0;32mif\u001b[0m \u001b[0;32mnot\u001b[0m \u001b[0mmatched\u001b[0m\u001b[0;34m:\u001b[0m\u001b[0;34m\u001b[0m\u001b[0;34m\u001b[0m\u001b[0m\n\u001b[0;32m---> 87\u001b[0;31m             \u001b[0;32mraise\u001b[0m \u001b[0mNoSuchElementException\u001b[0m\u001b[0;34m(\u001b[0m\u001b[0;34m\"Cannot locate option with value: %s\"\u001b[0m \u001b[0;34m%\u001b[0m \u001b[0mvalue\u001b[0m\u001b[0;34m)\u001b[0m\u001b[0;34m\u001b[0m\u001b[0;34m\u001b[0m\u001b[0m\n\u001b[0m\u001b[1;32m     88\u001b[0m \u001b[0;34m\u001b[0m\u001b[0m\n\u001b[1;32m     89\u001b[0m     \u001b[0;32mdef\u001b[0m \u001b[0mselect_by_index\u001b[0m\u001b[0;34m(\u001b[0m\u001b[0mself\u001b[0m\u001b[0;34m,\u001b[0m \u001b[0mindex\u001b[0m\u001b[0;34m)\u001b[0m\u001b[0;34m:\u001b[0m\u001b[0;34m\u001b[0m\u001b[0;34m\u001b[0m\u001b[0m\n",
      "\u001b[0;31mNoSuchElementException\u001b[0m: Message: Cannot locate option with value: Australia\n"
     ]
    }
   ],
   "source": [
    "s.select_by_value('Australia') #no such value like australia exist thus it is giving error "
   ]
  },
  {
   "cell_type": "code",
   "execution_count": 35,
   "metadata": {
    "collapsed": true
   },
   "outputs": [],
   "source": [
    "s.select_by_index('2') #here also we have selected using the index but we hvae passed the index in the form character !"
   ]
  },
  {
   "cell_type": "code",
   "execution_count": 36,
   "metadata": {
    "collapsed": true
   },
   "outputs": [],
   "source": [
    "s.select_by_visible_text('Australia') #text australia is present in the dropdown therefore it will get selected !\n",
    "# similarly there are numerous different methods for deselecting the selected values ..look at that in the  downloaded slides !"
   ]
  },
  {
   "cell_type": "code",
   "execution_count": 40,
   "metadata": {},
   "outputs": [
    {
     "data": {
      "text/plain": [
       "<selenium.webdriver.support.select.Select at 0x10926ebe0>"
      ]
     },
     "execution_count": 40,
     "metadata": {},
     "output_type": "execute_result"
    }
   ],
   "source": [
    "drp_dwn2 = driver.find_element_by_id('selenium_commands') # finding the second dropdown \n",
    "s1 = Select(drp_dwn2) #creating object of select class and passing the dropdown2 !\n",
    "s1"
   ]
  },
  {
   "cell_type": "code",
   "execution_count": 41,
   "metadata": {},
   "outputs": [
    {
     "data": {
      "text/plain": [
       "[<selenium.webdriver.remote.webelement.WebElement (session=\"f80cad37893e9d90575ef449685d73db\", element=\"0.046712099246680516-2\")>,\n",
       " <selenium.webdriver.remote.webelement.WebElement (session=\"f80cad37893e9d90575ef449685d73db\", element=\"0.046712099246680516-3\")>,\n",
       " <selenium.webdriver.remote.webelement.WebElement (session=\"f80cad37893e9d90575ef449685d73db\", element=\"0.046712099246680516-4\")>,\n",
       " <selenium.webdriver.remote.webelement.WebElement (session=\"f80cad37893e9d90575ef449685d73db\", element=\"0.046712099246680516-5\")>,\n",
       " <selenium.webdriver.remote.webelement.WebElement (session=\"f80cad37893e9d90575ef449685d73db\", element=\"0.046712099246680516-6\")>]"
      ]
     },
     "execution_count": 41,
     "metadata": {},
     "output_type": "execute_result"
    }
   ],
   "source": [
    "s1.options #will give the options available in the dropdown "
   ]
  },
  {
   "cell_type": "code",
   "execution_count": 42,
   "metadata": {},
   "outputs": [],
   "source": [
    "s1.select_by_visible_text('Navigation Commands') #selecting the option\n",
    "s1.select_by_visible_text('Switch Commands') # selecting the second option \n",
    "\n",
    "# Drop down 2 is the drop down to which multiple selections can be performed !"
   ]
  },
  {
   "cell_type": "code",
   "execution_count": 43,
   "metadata": {},
   "outputs": [
    {
     "data": {
      "text/plain": [
       "[<selenium.webdriver.remote.webelement.WebElement (session=\"f80cad37893e9d90575ef449685d73db\", element=\"0.046712099246680516-3\")>,\n",
       " <selenium.webdriver.remote.webelement.WebElement (session=\"f80cad37893e9d90575ef449685d73db\", element=\"0.046712099246680516-4\")>]"
      ]
     },
     "execution_count": 43,
     "metadata": {},
     "output_type": "execute_result"
    }
   ],
   "source": [
    "s1.all_selected_options # this will tell us all the selected options in the dropdown "
   ]
  },
  {
   "cell_type": "code",
   "execution_count": 44,
   "metadata": {
    "collapsed": true
   },
   "outputs": [],
   "source": [
    "s1.deselect_all() # this is to deselect all the selected options in the dropdown !"
   ]
  },
  {
   "cell_type": "code",
   "execution_count": null,
   "metadata": {
    "collapsed": true
   },
   "outputs": [],
   "source": []
  }
 ],
 "metadata": {
  "kernelspec": {
   "display_name": "Python 3",
   "language": "python",
   "name": "python3"
  },
  "language_info": {
   "codemirror_mode": {
    "name": "ipython",
    "version": 3
   },
   "file_extension": ".py",
   "mimetype": "text/x-python",
   "name": "python",
   "nbconvert_exporter": "python",
   "pygments_lexer": "ipython3",
   "version": "3.7.3"
  }
 },
 "nbformat": 4,
 "nbformat_minor": 2
}
