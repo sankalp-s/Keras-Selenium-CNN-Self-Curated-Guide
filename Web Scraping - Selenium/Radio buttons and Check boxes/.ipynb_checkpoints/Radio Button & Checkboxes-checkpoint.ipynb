{
 "cells": [
  {
   "cell_type": "code",
   "execution_count": 6,
   "metadata": {
    "collapsed": true
   },
   "outputs": [],
   "source": [
    "from selenium import webdriver"
   ]
  },
  {
   "cell_type": "code",
   "execution_count": 7,
   "metadata": {},
   "outputs": [
    {
     "name": "stdout",
     "output_type": "stream",
     "text": [
      "<input id=\"exp-0\" name=\"exp\" type=\"radio\" value=\"1\">\n"
     ]
    }
   ],
   "source": [
    "driver = webdriver.Chrome(executable_path = 'C:\\\\Users\\\\Sankalp Arora\\\\Downloads\\\\chromedriver_win32 (1)\\\\chromedriver') #this is creating the webdriver \n",
    "driver.get('https://www.toolsqa.com/automation-practice-form/') #this is to call the website \n",
    "btn = driver.find_element_by_name('exp') #calling the radio buttons and there name is by exp ...when we inspect the web page !\n",
    "# because its return just the element therefore it will return only the first element i.e the value of the first radio button \n",
    "print(btn.get_attribute('outerHTML')) # to initiate the web driver session "
   ]
  },
  {
   "cell_type": "code",
   "execution_count": 9,
   "metadata": {},
   "outputs": [],
   "source": [
    "driver = webdriver.Chrome(executable_path = 'C:\\\\Users\\\\Sankalp Arora\\\\Downloads\\\\chromedriver_win32 (1)\\\\chromedriver')\n",
    "driver.get('https://www.toolsqa.com/automation-practice-form/')\n",
    "btn = driver.find_elements_by_name('exp') # Here it will return all the radio buttons at the output !\n",
    "btn[2].click() #then passing the index value to the btn we can fetch the required radio button value\n",
    "#indexing starts from 0 .....as ususal method !"
   ]
  },
  {
   "cell_type": "code",
   "execution_count": 11,
   "metadata": {},
   "outputs": [
    {
     "name": "stdout",
     "output_type": "stream",
     "text": [
      "True\n",
      "False\n"
     ]
    }
   ],
   "source": [
    "print(btn[2].is_selected()) # is_selected() will return the boolen value telling if the btn is selected or not !\n",
    "# it will give true and false as the output !\n",
    "print(btn[0].is_selected())"
   ]
  },
  {
   "cell_type": "code",
   "execution_count": 12,
   "metadata": {
    "collapsed": true
   },
   "outputs": [],
   "source": [
    "btn[4].click() #clicking on the 5th radio button !"
   ]
  },
  {
   "cell_type": "code",
   "execution_count": 15,
   "metadata": {},
   "outputs": [
    {
     "data": {
      "text/plain": [
       "[<selenium.webdriver.remote.webelement.WebElement (session=\"a7b804fa7059c64f609ba7015fc1bb89\", element=\"0.8767140897476811-1\")>,\n",
       " <selenium.webdriver.remote.webelement.WebElement (session=\"a7b804fa7059c64f609ba7015fc1bb89\", element=\"0.8767140897476811-2\")>]"
      ]
     },
     "execution_count": 15,
     "metadata": {},
     "output_type": "execute_result"
    }
   ],
   "source": [
    "driver = webdriver.Chrome(executable_path = 'C:\\\\Users\\\\Sankalp Arora\\\\Downloads\\\\chromedriver_win32 (1)\\\\chromedriver') #creating the driver \n",
    "driver.get('https://www.toolsqa.com/automation-practice-form/') #opening the website using the web driver \n",
    "checkboxes = driver.find_elements_by_name('profession') # fetching the check boxes as they have the name as professon therefore fetching the elements by name !\n",
    "checkboxes #getting all the checkboxes !"
   ]
  },
  {
   "cell_type": "code",
   "execution_count": 16,
   "metadata": {
    "collapsed": true
   },
   "outputs": [],
   "source": [
    "for i in checkboxes :\n",
    "    if i.get_attribute('value') == 'Automation Tester' :  #using get_attribute() we can find the value of our selection \n",
    "        i.click() \n",
    "\n",
    "#therefore in this code we will go through all the checkboxes and getting their values ..and if their value is equal to the string provided by us then they will get selected !"
   ]
  },
  {
   "cell_type": "code",
   "execution_count": 17,
   "metadata": {
    "collapsed": true
   },
   "outputs": [],
   "source": [
    "for i in checkboxes :\n",
    "    if i.is_selected() : \n",
    "        i.click()\n",
    "# this code is for deselecting the values which are already selected i.e again clicking on the checkboxes\n",
    "#therefore while going in the for loop if the checkbox is selected then we are giving command to click on that...and as it will click over that again....the selected checkbox will get deselected again !"
   ]
  }
 ],
 "metadata": {
  "kernelspec": {
   "display_name": "Python 3",
   "language": "python",
   "name": "python3"
  },
  "language_info": {
   "codemirror_mode": {
    "name": "ipython",
    "version": 3
   },
   "file_extension": ".py",
   "mimetype": "text/x-python",
   "name": "python",
   "nbconvert_exporter": "python",
   "pygments_lexer": "ipython3",
   "version": "3.7.3"
  }
 },
 "nbformat": 4,
 "nbformat_minor": 2
}
