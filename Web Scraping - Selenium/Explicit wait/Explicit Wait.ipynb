{
 "cells": [
  {
   "cell_type": "code",
   "execution_count": 3,
   "metadata": {
    "collapsed": true
   },
   "outputs": [],
   "source": [
    "from selenium import webdriver"
   ]
  },
  {
   "cell_type": "code",
   "execution_count": 19,
   "metadata": {},
   "outputs": [
    {
     "data": {
      "text/plain": [
       "<selenium.webdriver.remote.webelement.WebElement (session=\"f904e6aaec4ca92886f7d2463a63e2d8\", element=\"0.4082756547273827-1\")>"
      ]
     },
     "execution_count": 19,
     "metadata": {},
     "output_type": "execute_result"
    }
   ],
   "source": [
    "driver = webdriver.Chrome(executable_path = 'C:\\\\Users\\\\Sankalp Arora\\\\Downloads\\\\chromedriver_win32 (1)\\\\chromedriver')\n",
    "driver.get('https://www.dell.com/en-in')\n",
    "text_box = driver.find_element_by_id('search-input')\n",
    "text_box.send_keys('Gaming Laptops')\n",
    "text_box.submit()\n",
    "driver.implicitly_wait(10)\n",
    "lap1 = driver.find_element_by_xpath('//div[contains(@class, \"gridbox\")]/div/a')\n",
    "lap1"
   ]
  },
  {
   "cell_type": "code",
   "execution_count": 20,
   "metadata": {
    "collapsed": true
   },
   "outputs": [],
   "source": [
    "lap1.click()"
   ]
  },
  {
   "cell_type": "code",
   "execution_count": 5,
   "metadata": {},
   "outputs": [],
   "source": [
    "from selenium.webdriver.support.ui import WebDriverWait #imported web driver wait from the selenium\n",
    "from selenium.webdriver.support import expected_conditions as EC # imoported one more library which is named as expected conditions !\n",
    "from selenium.webdriver.common.by import By #importing By module to run the by statement i.e By.XPATH .. we need to run this !\n",
    "\n",
    "driver = webdriver.Chrome(executable_path = 'C:\\\\Users\\\\Sankalp Arora\\\\Downloads\\\\chromedriver_win32 (1)\\\\chromedriver')\n",
    "driver.get('https://www.dell.com/en-in')\n",
    "text_box = driver.find_element_by_id('search-input')\n",
    "text_box.send_keys('Gaming Laptops')\n",
    "text_box.submit()\n",
    "\n",
    "## Explicit Wait\n",
    "wait = WebDriverWait(driver, 10) #creating object of the web driver driver is the web driver name and 10 is the upper limit i.e wait max for 10 seconds \n",
    "lap1 = wait.until(EC.presence_of_element_located((By.XPATH, \n",
    "                                          '//div[contains(@class, \"gridbox\")]/div/a')))\n",
    "# until is used to pass the condition till which the web driver is suppose to wait !....EC. is the expected condition .\n",
    "# presence_of_element_located is the command use to find if the required element is present or not !\n",
    "# By.XPATH is important to pass as we are passing the path of the locator and this is the command !\n",
    "\n",
    "lap1.click() # this is to click on the button once the page is loaded !\n",
    "\n",
    "\n",
    "#similarly there are soo many list of conditions which we can use and they are specified in the slide that we have downloaded "
   ]
  }
 ],
 "metadata": {
  "kernelspec": {
   "display_name": "Python 3",
   "language": "python",
   "name": "python3"
  },
  "language_info": {
   "codemirror_mode": {
    "name": "ipython",
    "version": 3
   },
   "file_extension": ".py",
   "mimetype": "text/x-python",
   "name": "python",
   "nbconvert_exporter": "python",
   "pygments_lexer": "ipython3",
   "version": "3.7.3"
  }
 },
 "nbformat": 4,
 "nbformat_minor": 2
}
