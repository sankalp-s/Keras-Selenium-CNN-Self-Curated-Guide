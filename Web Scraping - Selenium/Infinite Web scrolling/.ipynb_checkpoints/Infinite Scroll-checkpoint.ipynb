{
 "cells": [
  {
   "cell_type": "code",
   "execution_count": 1,
   "metadata": {
    "collapsed": true
   },
   "outputs": [],
   "source": [
    "from selenium import webdriver\n",
    "#infinite scrolling is to perform the scrolling until we reach the end ...i.e after that no new data gets loaded !\n",
    "# in this session we will perform infinite scrolling "
   ]
  },
  {
   "cell_type": "code",
   "execution_count": 2,
   "metadata": {
    "collapsed": true
   },
   "outputs": [],
   "source": [
    "driver = webdriver.Chrome(executable_path = 'C:\\\\Users\\\\Sankalp Arora\\\\Downloads\\\\chromedriver_win32 (1)\\\\chromedriver')"
   ]
  },
  {
   "cell_type": "code",
   "execution_count": 3,
   "metadata": {
    "collapsed": true
   },
   "outputs": [],
   "source": [
    "driver.get('https://twitter.com/StackOverheards')"
   ]
  },
  {
   "cell_type": "code",
   "execution_count": 4,
   "metadata": {
    "collapsed": true
   },
   "outputs": [],
   "source": [
    "driver.execute_script('window.location = \"https://www.google.com/\";')"
   ]
  },
  {
   "cell_type": "code",
   "execution_count": 4,
   "metadata": {},
   "outputs": [
    {
     "data": {
      "text/plain": [
       "<selenium.webdriver.remote.webelement.WebElement (session=\"abf596885dcd7559dad9e783c3d84cdf\", element=\"0.23272942142209163-1\")>"
      ]
     },
     "execution_count": 4,
     "metadata": {},
     "output_type": "execute_result"
    }
   ],
   "source": [
    "driver.execute_script('return document.getElementById(\"global-nav-home\");')"
   ]
  },
  {
   "cell_type": "code",
   "execution_count": 5,
   "metadata": {},
   "outputs": [
    {
     "data": {
      "text/plain": [
       "<selenium.webdriver.remote.webelement.WebElement (session=\"abf596885dcd7559dad9e783c3d84cdf\", element=\"0.23272942142209163-1\")>"
      ]
     },
     "execution_count": 5,
     "metadata": {},
     "output_type": "execute_result"
    }
   ],
   "source": [
    "driver.find_element_by_id('global-nav-home')"
   ]
  },
  {
   "cell_type": "code",
   "execution_count": 14,
   "metadata": {
    "collapsed": true
   },
   "outputs": [],
   "source": [
    "driver.execute_script('window.scrollBy(0, 1000);')"
   ]
  },
  {
   "cell_type": "code",
   "execution_count": 15,
   "metadata": {
    "collapsed": true
   },
   "outputs": [],
   "source": [
    "driver.execute_script('window.scrollBy(0, 1000);')"
   ]
  },
  {
   "cell_type": "code",
   "execution_count": 17,
   "metadata": {
    "collapsed": true
   },
   "outputs": [],
   "source": [
    "import time\n",
    "for i in range(5) :\n",
    "    driver.execute_script(\n",
    "        'window.scrollBy(0, 1000);')\n",
    "    time.sleep(3)"
   ]
  },
  {
   "cell_type": "code",
   "execution_count": 18,
   "metadata": {
    "collapsed": true
   },
   "outputs": [],
   "source": [
    "driver.execute_script(\n",
    "    'window.scrollBy(0, -1000);')"
   ]
  },
  {
   "cell_type": "code",
   "execution_count": 19,
   "metadata": {
    "collapsed": true
   },
   "outputs": [],
   "source": [
    "driver.execute_script(\n",
    "    'window.scrollBy(200, 0);')"
   ]
  },
  {
   "cell_type": "code",
   "execution_count": 30,
   "metadata": {},
   "outputs": [
    {
     "data": {
      "text/plain": [
       "2660"
      ]
     },
     "execution_count": 30,
     "metadata": {},
     "output_type": "execute_result"
    }
   ],
   "source": [
    "driver.execute_script('return document.body.scrollHeight;') # THIS gives the entire height of the body !\n",
    "# so we can scroll till 2660 as this is the max height to which we can go !"
   ]
  },
  {
   "cell_type": "code",
   "execution_count": 31,
   "metadata": {
    "collapsed": true
   },
   "outputs": [],
   "source": [
    "driver.execute_script(\n",
    "    'window.scrollTo(0, document.body.scrollHeight);') # we are here using the scroll to i.e we will give the pixel vlaues of x and y that to this value you are suppose to scroll !\n",
    "#document.body.scrollHeight this is the max height of the pixel "
   ]
  },
  {
   "cell_type": "code",
   "execution_count": 32,
   "metadata": {},
   "outputs": [
    {
     "data": {
      "text/plain": [
       "4751"
      ]
     },
     "execution_count": 32,
     "metadata": {},
     "output_type": "execute_result"
    }
   ],
   "source": [
    "driver.execute_script('return document.body.scrollHeight;')"
   ]
  },
  {
   "cell_type": "code",
   "execution_count": 34,
   "metadata": {},
   "outputs": [
    {
     "name": "stdout",
     "output_type": "stream",
     "text": [
      "2660 4751\n",
      "4751 7019\n",
      "7019 9462\n",
      "9462 11790\n",
      "11790 14349\n",
      "14349 16336\n",
      "16336 18657\n",
      "18657 21218\n",
      "21218 23207\n",
      "23207 25154\n",
      "25154 27182\n",
      "27182 29236\n",
      "29236 30862\n",
      "30862 30862\n"
     ]
    }
   ],
   "source": [
    "import time\n",
    "current_height = driver.execute_script('return document.body.scrollHeight;') # this a python variable as we scroll down..now a new height is defined \n",
    "\n",
    "while True : # we ahve here applied the loop for the scrolling purpose !\n",
    "    driver.execute_script('window.scrollTo(0, arguments[0]);', current_height) #arguments[0] object in javascript curent height will replace argument[0]\n",
    "    time.sleep(3) #taking 3 sec pause after one scroll\n",
    "    new_height = driver.execute_script('return document.body.scrollHeight;')\n",
    "    print(current_height, new_height)\n",
    "    if new_height == current_height : # this tells that we have reached the end point of the page !\n",
    "        break\n",
    "    current_height = new_height # this is to update the height !\n",
    "\n",
    "    \n",
    "    \n",
    "# we can observe the changes in the current and the new height from data printed below !!!\n",
    "#this is very important concept !"
   ]
  },
  {
   "cell_type": "code",
   "execution_count": null,
   "metadata": {
    "collapsed": true
   },
   "outputs": [],
   "source": []
  }
 ],
 "metadata": {
  "kernelspec": {
   "display_name": "Python 3",
   "language": "python",
   "name": "python3"
  },
  "language_info": {
   "codemirror_mode": {
    "name": "ipython",
    "version": 3
   },
   "file_extension": ".py",
   "mimetype": "text/x-python",
   "name": "python",
   "nbconvert_exporter": "python",
   "pygments_lexer": "ipython3",
   "version": "3.7.3"
  }
 },
 "nbformat": 4,
 "nbformat_minor": 2
}
