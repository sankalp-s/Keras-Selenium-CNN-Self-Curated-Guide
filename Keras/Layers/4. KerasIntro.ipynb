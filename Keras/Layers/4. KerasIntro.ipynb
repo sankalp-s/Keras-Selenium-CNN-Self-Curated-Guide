{
 "cells": [
  {
   "cell_type": "code",
   "execution_count": 12,
   "metadata": {},
   "outputs": [],
   "source": [
    "from keras.models import Sequential\n",
    "from keras.layers import Dense # importing the dense layer "
   ]
  },
  {
   "cell_type": "code",
   "execution_count": 13,
   "metadata": {},
   "outputs": [],
   "source": [
    "# Creating a Model\n",
    "model = Sequential()"
   ]
  },
  {
   "cell_type": "code",
   "execution_count": 14,
   "metadata": {},
   "outputs": [],
   "source": [
    "# Here we are using the breast cancer dataset and each has 30 inputs coming to the system i.e each row and dataset has 30 inputs     \n",
    "layer1 = Dense(units=32, activation = 'relu', input_dim = 30) # default neural network is called as dense layer ..relu is the activation function and for the first layer we are suppose to pass the number of input to it \n",
    "model.add(layer1) # adding the first layer \n",
    "model.add(Dense(units=16, activation = 'relu')) #this is the second layer \n",
    "model.add(Dense(units=1, activation = 'sigmoid')) #this is the third layer....unit =1 because this is the breast cancer dataset which is in the form of a binary thus unit = 1 \n",
    "\n",
    "#if we dont add the bias then as a default it it used"
   ]
  }
 ],
 "metadata": {
  "kernelspec": {
   "display_name": "Python 3",
   "language": "python",
   "name": "python3"
  },
  "language_info": {
   "codemirror_mode": {
    "name": "ipython",
    "version": 3
   },
   "file_extension": ".py",
   "mimetype": "text/x-python",
   "name": "python",
   "nbconvert_exporter": "python",
   "pygments_lexer": "ipython3",
   "version": "3.7.5"
  }
 },
 "nbformat": 4,
 "nbformat_minor": 2
}
